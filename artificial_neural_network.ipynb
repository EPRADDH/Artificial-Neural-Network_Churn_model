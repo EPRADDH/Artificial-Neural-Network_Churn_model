{
 "cells": [
  {
   "cell_type": "markdown",
   "metadata": {
    "colab_type": "text",
    "id": "lP6JLo1tGNBg"
   },
   "source": [
    "# Artificial Neural Network"
   ]
  },
  {
   "cell_type": "markdown",
   "metadata": {
    "colab_type": "text",
    "id": "gWZyYmS_UE_L"
   },
   "source": [
    "### Importing the libraries"
   ]
  },
  {
   "cell_type": "code",
   "execution_count": 30,
   "metadata": {
    "colab": {},
    "colab_type": "code",
    "id": "MxkJoQBkUIHC"
   },
   "outputs": [],
   "source": [
    "import numpy as np\n",
    "import pandas as pd\n",
    "import tensorflow as tf\n",
    "import matplotlib.pyplot as plt"
   ]
  },
  {
   "cell_type": "code",
   "execution_count": 2,
   "metadata": {
    "colab": {
     "base_uri": "https://localhost:8080/",
     "height": 34
    },
    "colab_type": "code",
    "executionInfo": {
     "elapsed": 2787,
     "status": "ok",
     "timestamp": 1586428376540,
     "user": {
      "displayName": "Hadelin de Ponteves",
      "photoUrl": "https://lh3.googleusercontent.com/a-/AOh14GhEuXdT7eQweUmRPW8_laJuPggSK6hfvpl5a6WBaA=s64",
      "userId": "15047218817161520419"
     },
     "user_tz": -240
    },
    "id": "ZaTwK7ojXr2F",
    "outputId": "9991cc2b-cd5d-4e1e-c681-d32b9f4faa9a"
   },
   "outputs": [
    {
     "data": {
      "text/plain": [
       "'2.1.0'"
      ]
     },
     "execution_count": 2,
     "metadata": {},
     "output_type": "execute_result"
    }
   ],
   "source": [
    "tf.__version__"
   ]
  },
  {
   "cell_type": "markdown",
   "metadata": {
    "colab_type": "text",
    "id": "1E0Q3aoKUCRX"
   },
   "source": [
    "## Part 1 - Data Preprocessing"
   ]
  },
  {
   "cell_type": "markdown",
   "metadata": {
    "colab_type": "text",
    "id": "cKWAkFVGUU0Z"
   },
   "source": [
    "### Importing the dataset"
   ]
  },
  {
   "cell_type": "code",
   "execution_count": 3,
   "metadata": {
    "colab": {},
    "colab_type": "code",
    "id": "MXUkhkMfU4wq"
   },
   "outputs": [],
   "source": [
    "dataset = pd.read_csv('Churn_Modelling.csv')\n",
    "X = dataset.iloc[:, 3:-1].values\n",
    "y = dataset.iloc[:, -1].values"
   ]
  },
  {
   "cell_type": "code",
   "execution_count": 4,
   "metadata": {
    "colab": {
     "base_uri": "https://localhost:8080/",
     "height": 134
    },
    "colab_type": "code",
    "executionInfo": {
     "elapsed": 2782,
     "status": "ok",
     "timestamp": 1586428376541,
     "user": {
      "displayName": "Hadelin de Ponteves",
      "photoUrl": "https://lh3.googleusercontent.com/a-/AOh14GhEuXdT7eQweUmRPW8_laJuPggSK6hfvpl5a6WBaA=s64",
      "userId": "15047218817161520419"
     },
     "user_tz": -240
    },
    "id": "VYP9cQTWbzuI",
    "outputId": "38e3588f-f2e3-436b-bdc5-2967d495155c"
   },
   "outputs": [
    {
     "name": "stdout",
     "output_type": "stream",
     "text": [
      "[[619 'France' 'Female' ... 1 1 101348.88]\n",
      " [608 'Spain' 'Female' ... 0 1 112542.58]\n",
      " [502 'France' 'Female' ... 1 0 113931.57]\n",
      " ...\n",
      " [709 'France' 'Female' ... 0 1 42085.58]\n",
      " [772 'Germany' 'Male' ... 1 0 92888.52]\n",
      " [792 'France' 'Female' ... 1 0 38190.78]]\n"
     ]
    }
   ],
   "source": [
    "print(X)"
   ]
  },
  {
   "cell_type": "code",
   "execution_count": 5,
   "metadata": {
    "colab": {
     "base_uri": "https://localhost:8080/",
     "height": 34
    },
    "colab_type": "code",
    "executionInfo": {
     "elapsed": 2780,
     "status": "ok",
     "timestamp": 1586428376541,
     "user": {
      "displayName": "Hadelin de Ponteves",
      "photoUrl": "https://lh3.googleusercontent.com/a-/AOh14GhEuXdT7eQweUmRPW8_laJuPggSK6hfvpl5a6WBaA=s64",
      "userId": "15047218817161520419"
     },
     "user_tz": -240
    },
    "id": "38vKGE6Nb2RR",
    "outputId": "2abeb945-135e-460f-99e9-9967abe198d1"
   },
   "outputs": [
    {
     "name": "stdout",
     "output_type": "stream",
     "text": [
      "[1 0 1 ... 1 1 0]\n"
     ]
    }
   ],
   "source": [
    "print(y)"
   ]
  },
  {
   "cell_type": "markdown",
   "metadata": {
    "colab_type": "text",
    "id": "N6bQ0UgSU-NJ"
   },
   "source": [
    "### Encoding categorical data"
   ]
  },
  {
   "cell_type": "markdown",
   "metadata": {
    "colab_type": "text",
    "id": "le5MJreAbW52"
   },
   "source": [
    "Label Encoding the \"Gender\" column"
   ]
  },
  {
   "cell_type": "code",
   "execution_count": 6,
   "metadata": {
    "colab": {},
    "colab_type": "code",
    "id": "PxVKWXxLbczC"
   },
   "outputs": [],
   "source": [
    "from sklearn.preprocessing import LabelEncoder\n",
    "le = LabelEncoder()\n",
    "X[:, 2] = le.fit_transform(X[:, 2])"
   ]
  },
  {
   "cell_type": "code",
   "execution_count": 7,
   "metadata": {
    "colab": {
     "base_uri": "https://localhost:8080/",
     "height": 134
    },
    "colab_type": "code",
    "executionInfo": {
     "elapsed": 2775,
     "status": "ok",
     "timestamp": 1586428376542,
     "user": {
      "displayName": "Hadelin de Ponteves",
      "photoUrl": "https://lh3.googleusercontent.com/a-/AOh14GhEuXdT7eQweUmRPW8_laJuPggSK6hfvpl5a6WBaA=s64",
      "userId": "15047218817161520419"
     },
     "user_tz": -240
    },
    "id": "-M1KboxFb6OO",
    "outputId": "c7b742e2-7afb-4fb9-c6b4-ffeb3c4812f1"
   },
   "outputs": [
    {
     "name": "stdout",
     "output_type": "stream",
     "text": [
      "[[619 'France' 0 ... 1 1 101348.88]\n",
      " [608 'Spain' 0 ... 0 1 112542.58]\n",
      " [502 'France' 0 ... 1 0 113931.57]\n",
      " ...\n",
      " [709 'France' 0 ... 0 1 42085.58]\n",
      " [772 'Germany' 1 ... 1 0 92888.52]\n",
      " [792 'France' 0 ... 1 0 38190.78]]\n"
     ]
    }
   ],
   "source": [
    "print(X)"
   ]
  },
  {
   "cell_type": "markdown",
   "metadata": {
    "colab_type": "text",
    "id": "CUxGZezpbMcb"
   },
   "source": [
    "One Hot Encoding the \"Geography\" column"
   ]
  },
  {
   "cell_type": "code",
   "execution_count": 8,
   "metadata": {
    "colab": {},
    "colab_type": "code",
    "id": "AMXC8-KMVirw"
   },
   "outputs": [],
   "source": [
    "from sklearn.compose import ColumnTransformer\n",
    "from sklearn.preprocessing import OneHotEncoder\n",
    "ct = ColumnTransformer(transformers=[('encoder', OneHotEncoder(), [1])], remainder='passthrough')\n",
    "X = np.array(ct.fit_transform(X))"
   ]
  },
  {
   "cell_type": "code",
   "execution_count": 9,
   "metadata": {
    "colab": {
     "base_uri": "https://localhost:8080/",
     "height": 134
    },
    "colab_type": "code",
    "executionInfo": {
     "elapsed": 2768,
     "status": "ok",
     "timestamp": 1586428376543,
     "user": {
      "displayName": "Hadelin de Ponteves",
      "photoUrl": "https://lh3.googleusercontent.com/a-/AOh14GhEuXdT7eQweUmRPW8_laJuPggSK6hfvpl5a6WBaA=s64",
      "userId": "15047218817161520419"
     },
     "user_tz": -240
    },
    "id": "ZcxwEon-b8nV",
    "outputId": "9c88c069-f799-4e3b-be4b-24d8e17611fd"
   },
   "outputs": [
    {
     "name": "stdout",
     "output_type": "stream",
     "text": [
      "[[1.0 0.0 0.0 ... 1 1 101348.88]\n",
      " [0.0 0.0 1.0 ... 0 1 112542.58]\n",
      " [1.0 0.0 0.0 ... 1 0 113931.57]\n",
      " ...\n",
      " [1.0 0.0 0.0 ... 0 1 42085.58]\n",
      " [0.0 1.0 0.0 ... 1 0 92888.52]\n",
      " [1.0 0.0 0.0 ... 1 0 38190.78]]\n"
     ]
    }
   ],
   "source": [
    "print(X)"
   ]
  },
  {
   "cell_type": "markdown",
   "metadata": {
    "colab_type": "text",
    "id": "RE_FcHyfV3TQ"
   },
   "source": [
    "### Feature Scaling"
   ]
  },
  {
   "cell_type": "code",
   "execution_count": 10,
   "metadata": {
    "colab": {},
    "colab_type": "code",
    "id": "ViCrE00rV8Sk"
   },
   "outputs": [],
   "source": [
    "from sklearn.preprocessing import StandardScaler\n",
    "sc = StandardScaler()\n",
    "X = sc.fit_transform(X)"
   ]
  },
  {
   "cell_type": "code",
   "execution_count": 11,
   "metadata": {
    "colab": {
     "base_uri": "https://localhost:8080/",
     "height": 235
    },
    "colab_type": "code",
    "executionInfo": {
     "elapsed": 2760,
     "status": "ok",
     "timestamp": 1586428376544,
     "user": {
      "displayName": "Hadelin de Ponteves",
      "photoUrl": "https://lh3.googleusercontent.com/a-/AOh14GhEuXdT7eQweUmRPW8_laJuPggSK6hfvpl5a6WBaA=s64",
      "userId": "15047218817161520419"
     },
     "user_tz": -240
    },
    "id": "De3UsJwXdfMz",
    "outputId": "dde0e114-7250-42b5-d54d-047faebba5e1"
   },
   "outputs": [
    {
     "name": "stdout",
     "output_type": "stream",
     "text": [
      "[[ 0.99720391 -0.57873591 -0.57380915 ...  0.64609167  0.97024255\n",
      "   0.02188649]\n",
      " [-1.00280393 -0.57873591  1.74273971 ... -1.54776799  0.97024255\n",
      "   0.21653375]\n",
      " [ 0.99720391 -0.57873591 -0.57380915 ...  0.64609167 -1.03067011\n",
      "   0.2406869 ]\n",
      " ...\n",
      " [ 0.99720391 -0.57873591 -0.57380915 ... -1.54776799  0.97024255\n",
      "  -1.00864308]\n",
      " [-1.00280393  1.72790383 -0.57380915 ...  0.64609167 -1.03067011\n",
      "  -0.12523071]\n",
      " [ 0.99720391 -0.57873591 -0.57380915 ...  0.64609167 -1.03067011\n",
      "  -1.07636976]]\n"
     ]
    }
   ],
   "source": [
    "print(X)"
   ]
  },
  {
   "cell_type": "markdown",
   "metadata": {
    "colab_type": "text",
    "id": "vHol938cW8zd"
   },
   "source": [
    "### Splitting the dataset into the Training set and Test set"
   ]
  },
  {
   "cell_type": "code",
   "execution_count": 12,
   "metadata": {
    "colab": {},
    "colab_type": "code",
    "id": "Z-TDt0Y_XEfc"
   },
   "outputs": [],
   "source": [
    "from sklearn.model_selection import train_test_split\n",
    "X_train, X_test, y_train, y_test = train_test_split(X, y, test_size = 0.2, random_state = 0)"
   ]
  },
  {
   "cell_type": "markdown",
   "metadata": {
    "colab_type": "text",
    "id": "-zfEzkRVXIwF"
   },
   "source": [
    "## Part 2 - Building the ANN"
   ]
  },
  {
   "cell_type": "markdown",
   "metadata": {
    "colab_type": "text",
    "id": "KvdeScabXtlB"
   },
   "source": [
    "### Initializing the ANN"
   ]
  },
  {
   "cell_type": "code",
   "execution_count": 13,
   "metadata": {
    "colab": {},
    "colab_type": "code",
    "id": "3dtrScHxXQox"
   },
   "outputs": [],
   "source": [
    "ann = tf.keras.models.Sequential()"
   ]
  },
  {
   "cell_type": "markdown",
   "metadata": {
    "colab_type": "text",
    "id": "rP6urV6SX7kS"
   },
   "source": [
    "### Adding the input layer and the first hidden layer"
   ]
  },
  {
   "cell_type": "code",
   "execution_count": 14,
   "metadata": {
    "colab": {},
    "colab_type": "code",
    "id": "bppGycBXYCQr"
   },
   "outputs": [],
   "source": [
    "ann.add(tf.keras.layers.Dense(units=6, activation='relu'))"
   ]
  },
  {
   "cell_type": "markdown",
   "metadata": {
    "colab_type": "text",
    "id": "BELWAc_8YJze"
   },
   "source": [
    "### Adding the second hidden layer"
   ]
  },
  {
   "cell_type": "code",
   "execution_count": 15,
   "metadata": {
    "colab": {},
    "colab_type": "code",
    "id": "JneR0u0sYRTd"
   },
   "outputs": [],
   "source": [
    "ann.add(tf.keras.layers.Dense(units=6, activation='relu'))"
   ]
  },
  {
   "cell_type": "markdown",
   "metadata": {
    "colab_type": "text",
    "id": "OyNEe6RXYcU4"
   },
   "source": [
    "### Adding the output layer"
   ]
  },
  {
   "cell_type": "code",
   "execution_count": 16,
   "metadata": {
    "colab": {},
    "colab_type": "code",
    "id": "Cn3x41RBYfvY"
   },
   "outputs": [],
   "source": [
    "ann.add(tf.keras.layers.Dense(units=1, activation='sigmoid'))"
   ]
  },
  {
   "cell_type": "code",
   "execution_count": null,
   "metadata": {},
   "outputs": [],
   "source": []
  },
  {
   "cell_type": "markdown",
   "metadata": {
    "colab_type": "text",
    "id": "JT4u2S1_Y4WG"
   },
   "source": [
    "## Training the ANN"
   ]
  },
  {
   "cell_type": "markdown",
   "metadata": {
    "colab_type": "text",
    "id": "8GWlJChhY_ZI"
   },
   "source": [
    "### Compiling the ANN"
   ]
  },
  {
   "cell_type": "code",
   "execution_count": 17,
   "metadata": {
    "colab": {},
    "colab_type": "code",
    "id": "fG3RrwDXZEaS"
   },
   "outputs": [],
   "source": [
    "ann.compile(optimizer = 'adam', loss = 'binary_crossentropy', metrics = ['accuracy'])"
   ]
  },
  {
   "cell_type": "markdown",
   "metadata": {
    "colab_type": "text",
    "id": "0QR_G5u7ZLSM"
   },
   "source": [
    "### Training the ANN on the Training set"
   ]
  },
  {
   "cell_type": "code",
   "execution_count": 45,
   "metadata": {
    "colab": {
     "base_uri": "https://localhost:8080/",
     "height": 1000
    },
    "colab_type": "code",
    "executionInfo": {
     "elapsed": 31750,
     "status": "ok",
     "timestamp": 1586428405580,
     "user": {
      "displayName": "Hadelin de Ponteves",
      "photoUrl": "https://lh3.googleusercontent.com/a-/AOh14GhEuXdT7eQweUmRPW8_laJuPggSK6hfvpl5a6WBaA=s64",
      "userId": "15047218817161520419"
     },
     "user_tz": -240
    },
    "id": "nHZ-LKv_ZRb3",
    "outputId": "6a90f176-803d-4b03-e65f-c05bda6f519c"
   },
   "outputs": [
    {
     "name": "stdout",
     "output_type": "stream",
     "text": [
      "Train on 8000 samples, validate on 2000 samples\n",
      "Epoch 1/100\n",
      "8000/8000 [==============================] - 1s 167us/sample - loss: 0.3313 - accuracy: 0.8661 - val_loss: 0.3372 - val_accuracy: 0.8585\n",
      "Epoch 2/100\n",
      "8000/8000 [==============================] - 0s 58us/sample - loss: 0.3312 - accuracy: 0.8651 - val_loss: 0.3348 - val_accuracy: 0.8645\n",
      "Epoch 3/100\n",
      "8000/8000 [==============================] - 0s 57us/sample - loss: 0.3315 - accuracy: 0.8646 - val_loss: 0.3358 - val_accuracy: 0.8625\n",
      "Epoch 4/100\n",
      "8000/8000 [==============================] - 0s 59us/sample - loss: 0.3314 - accuracy: 0.8637 - val_loss: 0.3355 - val_accuracy: 0.8590\n",
      "Epoch 5/100\n",
      "8000/8000 [==============================] - 0s 58us/sample - loss: 0.3309 - accuracy: 0.8661 - val_loss: 0.3335 - val_accuracy: 0.8630\n",
      "Epoch 6/100\n",
      "8000/8000 [==============================] - 0s 60us/sample - loss: 0.3314 - accuracy: 0.8656 - val_loss: 0.3350 - val_accuracy: 0.8620\n",
      "Epoch 7/100\n",
      "8000/8000 [==============================] - 0s 60us/sample - loss: 0.3309 - accuracy: 0.8673 - val_loss: 0.3364 - val_accuracy: 0.8595\n",
      "Epoch 8/100\n",
      "8000/8000 [==============================] - 1s 63us/sample - loss: 0.3307 - accuracy: 0.8652 - val_loss: 0.3386 - val_accuracy: 0.8550\n",
      "Epoch 9/100\n",
      "8000/8000 [==============================] - 0s 60us/sample - loss: 0.3311 - accuracy: 0.8656 - val_loss: 0.3333 - val_accuracy: 0.8620\n",
      "Epoch 10/100\n",
      "8000/8000 [==============================] - 1s 64us/sample - loss: 0.3311 - accuracy: 0.8656 - val_loss: 0.3330 - val_accuracy: 0.8650\n",
      "Epoch 11/100\n",
      "8000/8000 [==============================] - 1s 63us/sample - loss: 0.3315 - accuracy: 0.8660 - val_loss: 0.3362 - val_accuracy: 0.8585\n",
      "Epoch 12/100\n",
      "8000/8000 [==============================] - 0s 61us/sample - loss: 0.3312 - accuracy: 0.8659 - val_loss: 0.3333 - val_accuracy: 0.8610\n",
      "Epoch 13/100\n",
      "8000/8000 [==============================] - 0s 59us/sample - loss: 0.3311 - accuracy: 0.8651 - val_loss: 0.3357 - val_accuracy: 0.8615\n",
      "Epoch 14/100\n",
      "8000/8000 [==============================] - 0s 62us/sample - loss: 0.3313 - accuracy: 0.8656 - val_loss: 0.3349 - val_accuracy: 0.8600\n",
      "Epoch 15/100\n",
      "8000/8000 [==============================] - 0s 62us/sample - loss: 0.3313 - accuracy: 0.8648 - val_loss: 0.3356 - val_accuracy: 0.8610\n",
      "Epoch 16/100\n",
      "8000/8000 [==============================] - 1s 65us/sample - loss: 0.3312 - accuracy: 0.8666 - val_loss: 0.3350 - val_accuracy: 0.8605\n",
      "Epoch 17/100\n",
      "8000/8000 [==============================] - 0s 62us/sample - loss: 0.3311 - accuracy: 0.8650 - val_loss: 0.3353 - val_accuracy: 0.8600\n",
      "Epoch 18/100\n",
      "8000/8000 [==============================] - 1s 64us/sample - loss: 0.3305 - accuracy: 0.8661 - val_loss: 0.3361 - val_accuracy: 0.8620\n",
      "Epoch 19/100\n",
      "8000/8000 [==============================] - 1s 79us/sample - loss: 0.3307 - accuracy: 0.8649 - val_loss: 0.3340 - val_accuracy: 0.8625\n",
      "Epoch 20/100\n",
      "8000/8000 [==============================] - 1s 94us/sample - loss: 0.3311 - accuracy: 0.8656 - val_loss: 0.3347 - val_accuracy: 0.8635\n",
      "Epoch 21/100\n",
      "8000/8000 [==============================] - 1s 70us/sample - loss: 0.3312 - accuracy: 0.8637 - val_loss: 0.3355 - val_accuracy: 0.8610\n",
      "Epoch 22/100\n",
      "8000/8000 [==============================] - 1s 71us/sample - loss: 0.3312 - accuracy: 0.8654 - val_loss: 0.3336 - val_accuracy: 0.8615\n",
      "Epoch 23/100\n",
      "8000/8000 [==============================] - 1s 68us/sample - loss: 0.3310 - accuracy: 0.8659 - val_loss: 0.3352 - val_accuracy: 0.8610\n",
      "Epoch 24/100\n",
      "8000/8000 [==============================] - 1s 65us/sample - loss: 0.3310 - accuracy: 0.8669 - val_loss: 0.3367 - val_accuracy: 0.8620\n",
      "Epoch 25/100\n",
      "8000/8000 [==============================] - 1s 75us/sample - loss: 0.3309 - accuracy: 0.8655 - val_loss: 0.3371 - val_accuracy: 0.8580\n",
      "Epoch 26/100\n",
      "8000/8000 [==============================] - 1s 69us/sample - loss: 0.3308 - accuracy: 0.8658 - val_loss: 0.3352 - val_accuracy: 0.8615\n",
      "Epoch 27/100\n",
      "8000/8000 [==============================] - 1s 70us/sample - loss: 0.3312 - accuracy: 0.8652 - val_loss: 0.3353 - val_accuracy: 0.8610\n",
      "Epoch 28/100\n",
      "8000/8000 [==============================] - 1s 69us/sample - loss: 0.3313 - accuracy: 0.8650 - val_loss: 0.3380 - val_accuracy: 0.8605\n",
      "Epoch 29/100\n",
      "8000/8000 [==============================] - 1s 72us/sample - loss: 0.3310 - accuracy: 0.8658 - val_loss: 0.3347 - val_accuracy: 0.8625\n",
      "Epoch 30/100\n",
      "8000/8000 [==============================] - 1s 74us/sample - loss: 0.3311 - accuracy: 0.8656 - val_loss: 0.3347 - val_accuracy: 0.8610\n",
      "Epoch 31/100\n",
      "8000/8000 [==============================] - 1s 80us/sample - loss: 0.3310 - accuracy: 0.8668 - val_loss: 0.3340 - val_accuracy: 0.8595\n",
      "Epoch 32/100\n",
      "8000/8000 [==============================] - 1s 112us/sample - loss: 0.3313 - accuracy: 0.8670 - val_loss: 0.3366 - val_accuracy: 0.8585\n",
      "Epoch 33/100\n",
      "8000/8000 [==============================] - 1s 83us/sample - loss: 0.3309 - accuracy: 0.8655 - val_loss: 0.3336 - val_accuracy: 0.8630\n",
      "Epoch 34/100\n",
      "8000/8000 [==============================] - 1s 72us/sample - loss: 0.3310 - accuracy: 0.8671 - val_loss: 0.3365 - val_accuracy: 0.8585\n",
      "Epoch 35/100\n",
      "8000/8000 [==============================] - 1s 72us/sample - loss: 0.3309 - accuracy: 0.8658 - val_loss: 0.3340 - val_accuracy: 0.8615\n",
      "Epoch 36/100\n",
      "8000/8000 [==============================] - 1s 70us/sample - loss: 0.3311 - accuracy: 0.8668 - val_loss: 0.3338 - val_accuracy: 0.8615\n",
      "Epoch 37/100\n",
      "8000/8000 [==============================] - 1s 71us/sample - loss: 0.3306 - accuracy: 0.8656 - val_loss: 0.3336 - val_accuracy: 0.8635\n",
      "Epoch 38/100\n",
      "8000/8000 [==============================] - 1s 70us/sample - loss: 0.3308 - accuracy: 0.8652 - val_loss: 0.3371 - val_accuracy: 0.8570\n",
      "Epoch 39/100\n",
      "8000/8000 [==============================] - 1s 70us/sample - loss: 0.3303 - accuracy: 0.8666 - val_loss: 0.3382 - val_accuracy: 0.8565\n",
      "Epoch 40/100\n",
      "8000/8000 [==============================] - 1s 71us/sample - loss: 0.3307 - accuracy: 0.8646 - val_loss: 0.3361 - val_accuracy: 0.8615\n",
      "Epoch 41/100\n",
      "8000/8000 [==============================] - ETA: 0s - loss: 0.3307 - accuracy: 0.86 - 1s 86us/sample - loss: 0.3307 - accuracy: 0.8652 - val_loss: 0.3340 - val_accuracy: 0.8595\n",
      "Epoch 42/100\n",
      "8000/8000 [==============================] - 1s 79us/sample - loss: 0.3305 - accuracy: 0.8646 - val_loss: 0.3357 - val_accuracy: 0.8580\n",
      "Epoch 43/100\n",
      "8000/8000 [==============================] - 1s 77us/sample - loss: 0.3308 - accuracy: 0.8655 - val_loss: 0.3351 - val_accuracy: 0.8620\n",
      "Epoch 44/100\n",
      "8000/8000 [==============================] - 1s 83us/sample - loss: 0.3306 - accuracy: 0.8655 - val_loss: 0.3341 - val_accuracy: 0.8610\n",
      "Epoch 45/100\n",
      "8000/8000 [==============================] - 1s 87us/sample - loss: 0.3308 - accuracy: 0.8656 - val_loss: 0.3341 - val_accuracy: 0.8605\n",
      "Epoch 46/100\n",
      "8000/8000 [==============================] - 1s 137us/sample - loss: 0.3309 - accuracy: 0.8662 - val_loss: 0.3343 - val_accuracy: 0.8615\n",
      "Epoch 47/100\n",
      "8000/8000 [==============================] - 1s 100us/sample - loss: 0.3304 - accuracy: 0.8648 - val_loss: 0.3337 - val_accuracy: 0.8620\n",
      "Epoch 48/100\n",
      "8000/8000 [==============================] - 1s 112us/sample - loss: 0.3302 - accuracy: 0.8671 - val_loss: 0.3328 - val_accuracy: 0.8655\n",
      "Epoch 49/100\n",
      "8000/8000 [==============================] - 1s 92us/sample - loss: 0.3308 - accuracy: 0.8654 - val_loss: 0.3343 - val_accuracy: 0.8605\n",
      "Epoch 50/100\n",
      "8000/8000 [==============================] - 1s 93us/sample - loss: 0.3306 - accuracy: 0.8664 - val_loss: 0.3346 - val_accuracy: 0.8615\n",
      "Epoch 51/100\n",
      "8000/8000 [==============================] - 1s 94us/sample - loss: 0.3306 - accuracy: 0.8662 - val_loss: 0.3334 - val_accuracy: 0.8610\n",
      "Epoch 52/100\n",
      "8000/8000 [==============================] - 1s 92us/sample - loss: 0.3305 - accuracy: 0.8666 - val_loss: 0.3343 - val_accuracy: 0.8610\n",
      "Epoch 53/100\n",
      "8000/8000 [==============================] - 1s 94us/sample - loss: 0.3305 - accuracy: 0.8651 - val_loss: 0.3363 - val_accuracy: 0.8575\n",
      "Epoch 54/100\n",
      "8000/8000 [==============================] - 1s 99us/sample - loss: 0.3306 - accuracy: 0.8652 - val_loss: 0.3336 - val_accuracy: 0.8650\n",
      "Epoch 55/100\n"
     ]
    },
    {
     "name": "stdout",
     "output_type": "stream",
     "text": [
      "8000/8000 [==============================] - 1s 79us/sample - loss: 0.3302 - accuracy: 0.8661 - val_loss: 0.3352 - val_accuracy: 0.8595\n",
      "Epoch 56/100\n",
      "8000/8000 [==============================] - 1s 82us/sample - loss: 0.3304 - accuracy: 0.8666 - val_loss: 0.3327 - val_accuracy: 0.8675\n",
      "Epoch 57/100\n",
      "8000/8000 [==============================] - 1s 69us/sample - loss: 0.3307 - accuracy: 0.8673 - val_loss: 0.3335 - val_accuracy: 0.8610\n",
      "Epoch 58/100\n",
      "8000/8000 [==============================] - 1s 93us/sample - loss: 0.3306 - accuracy: 0.8658 - val_loss: 0.3347 - val_accuracy: 0.8605\n",
      "Epoch 59/100\n",
      "8000/8000 [==============================] - 1s 70us/sample - loss: 0.3304 - accuracy: 0.8659 - val_loss: 0.3356 - val_accuracy: 0.8595\n",
      "Epoch 60/100\n",
      "8000/8000 [==============================] - 1s 85us/sample - loss: 0.3300 - accuracy: 0.8655 - val_loss: 0.3328 - val_accuracy: 0.8645\n",
      "Epoch 61/100\n",
      "8000/8000 [==============================] - 1s 124us/sample - loss: 0.3304 - accuracy: 0.8645 - val_loss: 0.3327 - val_accuracy: 0.8630\n",
      "Epoch 62/100\n",
      "8000/8000 [==============================] - 1s 68us/sample - loss: 0.3303 - accuracy: 0.8645 - val_loss: 0.3339 - val_accuracy: 0.8610\n",
      "Epoch 63/100\n",
      "8000/8000 [==============================] - 1s 68us/sample - loss: 0.3305 - accuracy: 0.8661 - val_loss: 0.3344 - val_accuracy: 0.8595\n",
      "Epoch 64/100\n",
      "8000/8000 [==============================] - 1s 118us/sample - loss: 0.3303 - accuracy: 0.8659 - val_loss: 0.3341 - val_accuracy: 0.8630\n",
      "Epoch 65/100\n",
      "8000/8000 [==============================] - 1s 93us/sample - loss: 0.3302 - accuracy: 0.8668 - val_loss: 0.3330 - val_accuracy: 0.8595\n",
      "Epoch 66/100\n",
      "8000/8000 [==============================] - 1s 107us/sample - loss: 0.3302 - accuracy: 0.8660 - val_loss: 0.3336 - val_accuracy: 0.8640\n",
      "Epoch 67/100\n",
      "8000/8000 [==============================] - 1s 132us/sample - loss: 0.3307 - accuracy: 0.8659 - val_loss: 0.3330 - val_accuracy: 0.8630\n",
      "Epoch 68/100\n",
      "8000/8000 [==============================] - 1s 88us/sample - loss: 0.3299 - accuracy: 0.8661 - val_loss: 0.3356 - val_accuracy: 0.8615\n",
      "Epoch 69/100\n",
      "8000/8000 [==============================] - 1s 67us/sample - loss: 0.3305 - accuracy: 0.8660 - val_loss: 0.3376 - val_accuracy: 0.8560\n",
      "Epoch 70/100\n",
      "8000/8000 [==============================] - 1s 78us/sample - loss: 0.3307 - accuracy: 0.8659 - val_loss: 0.3344 - val_accuracy: 0.8620\n",
      "Epoch 71/100\n",
      "8000/8000 [==============================] - 1s 72us/sample - loss: 0.3300 - accuracy: 0.8655 - val_loss: 0.3363 - val_accuracy: 0.8570\n",
      "Epoch 72/100\n",
      "8000/8000 [==============================] - 1s 67us/sample - loss: 0.3305 - accuracy: 0.8665 - val_loss: 0.3354 - val_accuracy: 0.8575\n",
      "Epoch 73/100\n",
      "8000/8000 [==============================] - 1s 82us/sample - loss: 0.3301 - accuracy: 0.8655 - val_loss: 0.3343 - val_accuracy: 0.8590\n",
      "Epoch 74/100\n",
      "8000/8000 [==============================] - 1s 85us/sample - loss: 0.3303 - accuracy: 0.8666 - val_loss: 0.3339 - val_accuracy: 0.8600\n",
      "Epoch 75/100\n",
      "8000/8000 [==============================] - 1s 89us/sample - loss: 0.3303 - accuracy: 0.8666 - val_loss: 0.3333 - val_accuracy: 0.8630\n",
      "Epoch 76/100\n",
      "8000/8000 [==============================] - 1s 79us/sample - loss: 0.3302 - accuracy: 0.8658 - val_loss: 0.3354 - val_accuracy: 0.8580\n",
      "Epoch 77/100\n",
      "8000/8000 [==============================] - 1s 95us/sample - loss: 0.3302 - accuracy: 0.8670 - val_loss: 0.3345 - val_accuracy: 0.8600\n",
      "Epoch 78/100\n",
      "8000/8000 [==============================] - 1s 104us/sample - loss: 0.3301 - accuracy: 0.8660 - val_loss: 0.3347 - val_accuracy: 0.8575\n",
      "Epoch 79/100\n",
      "8000/8000 [==============================] - 1s 105us/sample - loss: 0.3302 - accuracy: 0.8669 - val_loss: 0.3341 - val_accuracy: 0.8615\n",
      "Epoch 80/100\n",
      "8000/8000 [==============================] - 1s 111us/sample - loss: 0.3298 - accuracy: 0.8661 - val_loss: 0.3370 - val_accuracy: 0.8575\n",
      "Epoch 81/100\n",
      "8000/8000 [==============================] - 1s 104us/sample - loss: 0.3299 - accuracy: 0.8666 - val_loss: 0.3333 - val_accuracy: 0.8620\n",
      "Epoch 82/100\n",
      "8000/8000 [==============================] - 1s 98us/sample - loss: 0.3299 - accuracy: 0.8669 - val_loss: 0.3341 - val_accuracy: 0.8595\n",
      "Epoch 83/100\n",
      "8000/8000 [==============================] - 1s 96us/sample - loss: 0.3301 - accuracy: 0.8665 - val_loss: 0.3338 - val_accuracy: 0.8595\n",
      "Epoch 84/100\n",
      "8000/8000 [==============================] - 1s 102us/sample - loss: 0.3303 - accuracy: 0.8668 - val_loss: 0.3350 - val_accuracy: 0.8610\n",
      "Epoch 85/100\n",
      "8000/8000 [==============================] - 1s 104us/sample - loss: 0.3300 - accuracy: 0.8651 - val_loss: 0.3352 - val_accuracy: 0.8570\n",
      "Epoch 86/100\n",
      "8000/8000 [==============================] - 1s 105us/sample - loss: 0.3305 - accuracy: 0.8665 - val_loss: 0.3348 - val_accuracy: 0.8585\n",
      "Epoch 87/100\n",
      "8000/8000 [==============================] - 1s 100us/sample - loss: 0.3301 - accuracy: 0.8655 - val_loss: 0.3335 - val_accuracy: 0.8620\n",
      "Epoch 88/100\n",
      "8000/8000 [==============================] - 1s 137us/sample - loss: 0.3302 - accuracy: 0.8639 - val_loss: 0.3333 - val_accuracy: 0.8610\n",
      "Epoch 89/100\n",
      "8000/8000 [==============================] - 1s 139us/sample - loss: 0.3301 - accuracy: 0.8669 - val_loss: 0.3344 - val_accuracy: 0.8605\n",
      "Epoch 90/100\n",
      "8000/8000 [==============================] - 1s 105us/sample - loss: 0.3299 - accuracy: 0.8669 - val_loss: 0.3359 - val_accuracy: 0.8610\n",
      "Epoch 91/100\n",
      "8000/8000 [==============================] - 1s 101us/sample - loss: 0.3303 - accuracy: 0.8659 - val_loss: 0.3351 - val_accuracy: 0.8615\n",
      "Epoch 92/100\n",
      "8000/8000 [==============================] - 1s 107us/sample - loss: 0.3303 - accuracy: 0.8648 - val_loss: 0.3348 - val_accuracy: 0.8630\n",
      "Epoch 93/100\n",
      "8000/8000 [==============================] - 1s 106us/sample - loss: 0.3303 - accuracy: 0.8650 - val_loss: 0.3340 - val_accuracy: 0.8615\n",
      "Epoch 94/100\n",
      "8000/8000 [==============================] - 1s 105us/sample - loss: 0.3302 - accuracy: 0.8658 - val_loss: 0.3360 - val_accuracy: 0.8590\n",
      "Epoch 95/100\n",
      "8000/8000 [==============================] - 1s 109us/sample - loss: 0.3297 - accuracy: 0.8664 - val_loss: 0.3400 - val_accuracy: 0.8560\n",
      "Epoch 96/100\n",
      "8000/8000 [==============================] - 1s 106us/sample - loss: 0.3302 - accuracy: 0.8659 - val_loss: 0.3340 - val_accuracy: 0.8620\n",
      "Epoch 97/100\n",
      "8000/8000 [==============================] - 1s 107us/sample - loss: 0.3305 - accuracy: 0.8652 - val_loss: 0.3346 - val_accuracy: 0.8590\n",
      "Epoch 98/100\n",
      "8000/8000 [==============================] - 1s 115us/sample - loss: 0.3302 - accuracy: 0.8662 - val_loss: 0.3341 - val_accuracy: 0.8595\n",
      "Epoch 99/100\n",
      "8000/8000 [==============================] - 1s 111us/sample - loss: 0.3301 - accuracy: 0.8655 - val_loss: 0.3331 - val_accuracy: 0.8615\n",
      "Epoch 100/100\n",
      "8000/8000 [==============================] - 1s 107us/sample - loss: 0.3299 - accuracy: 0.8650 - val_loss: 0.3346 - val_accuracy: 0.8605\n"
     ]
    }
   ],
   "source": [
    "model_history = ann.fit(X_train, y_train, batch_size = 32, epochs = 100,validation_data=(X_test, y_test))"
   ]
  },
  {
   "cell_type": "markdown",
   "metadata": {
    "colab_type": "text",
    "id": "tJj5k2MxZga3"
   },
   "source": [
    "## Part 4 - Making the predictions and evaluating the model"
   ]
  },
  {
   "cell_type": "markdown",
   "metadata": {
    "colab_type": "text",
    "id": "u7yx47jPZt11"
   },
   "source": [
    "### Predicting the Test set results"
   ]
  },
  {
   "cell_type": "code",
   "execution_count": 46,
   "metadata": {
    "colab": {
     "base_uri": "https://localhost:8080/",
     "height": 134
    },
    "colab_type": "code",
    "executionInfo": {
     "elapsed": 31748,
     "status": "ok",
     "timestamp": 1586428405581,
     "user": {
      "displayName": "Hadelin de Ponteves",
      "photoUrl": "https://lh3.googleusercontent.com/a-/AOh14GhEuXdT7eQweUmRPW8_laJuPggSK6hfvpl5a6WBaA=s64",
      "userId": "15047218817161520419"
     },
     "user_tz": -240
    },
    "id": "nIyEeQdRZwgs",
    "outputId": "a0f4d9ad-9a29-41dc-b101-9e7216d74dc0"
   },
   "outputs": [
    {
     "name": "stdout",
     "output_type": "stream",
     "text": [
      "[[0 0]\n",
      " [0 1]\n",
      " [0 0]\n",
      " ...\n",
      " [0 0]\n",
      " [0 0]\n",
      " [0 0]]\n"
     ]
    }
   ],
   "source": [
    "y_pred = ann.predict(X_test)\n",
    "y_pred = (y_pred > 0.5)\n",
    "\n",
    "print(np.concatenate((y_pred.reshape(len(y_pred),1), y_test.reshape(len(y_test),1)),1))"
   ]
  },
  {
   "cell_type": "markdown",
   "metadata": {
    "colab_type": "text",
    "id": "o0oyfLWoaEGw"
   },
   "source": [
    "### Making the Confusion Matrix"
   ]
  },
  {
   "cell_type": "code",
   "execution_count": 47,
   "metadata": {
    "colab": {
     "base_uri": "https://localhost:8080/",
     "height": 50
    },
    "colab_type": "code",
    "executionInfo": {
     "elapsed": 31746,
     "status": "ok",
     "timestamp": 1586428405581,
     "user": {
      "displayName": "Hadelin de Ponteves",
      "photoUrl": "https://lh3.googleusercontent.com/a-/AOh14GhEuXdT7eQweUmRPW8_laJuPggSK6hfvpl5a6WBaA=s64",
      "userId": "15047218817161520419"
     },
     "user_tz": -240
    },
    "id": "ci6K_r6LaF6P",
    "outputId": "09bd315f-7091-457f-b222-ce3998de57a5"
   },
   "outputs": [
    {
     "name": "stdout",
     "output_type": "stream",
     "text": [
      "[[1514   81]\n",
      " [ 198  207]]\n"
     ]
    }
   ],
   "source": [
    "from sklearn.metrics import confusion_matrix\n",
    "cm = confusion_matrix(y_test, y_pred)\n",
    "print(cm)"
   ]
  },
  {
   "cell_type": "code",
   "execution_count": 48,
   "metadata": {},
   "outputs": [
    {
     "name": "stdout",
     "output_type": "stream",
     "text": [
      "dict_keys(['loss', 'accuracy', 'val_loss', 'val_accuracy'])\n"
     ]
    }
   ],
   "source": [
    "# list all data in history\n",
    "\n",
    "print(model_history.history.keys())"
   ]
  },
  {
   "cell_type": "code",
   "execution_count": 49,
   "metadata": {},
   "outputs": [
    {
     "data": {
      "text/plain": [
       "[<matplotlib.lines.Line2D at 0x152dfe88>]"
      ]
     },
     "execution_count": 49,
     "metadata": {},
     "output_type": "execute_result"
    },
    {
     "data": {
      "image/png": "[encoded data removed]",
      "text/plain": [
       "<Figure size 432x288 with 1 Axes>"
      ]
     },
     "metadata": {
      "needs_background": "light"
     },
     "output_type": "display_data"
    }
   ],
   "source": [
    "# summarize history for accuracy\n",
    "plt.plot(model_history.history['accuracy'])"
   ]
  },
  {
   "cell_type": "code",
   "execution_count": 51,
   "metadata": {},
   "outputs": [
    {
     "data": {
      "image/png": "[encoded data removed]",
      "text/plain": [
       "<Figure size 432x288 with 1 Axes>"
      ]
     },
     "metadata": {
      "needs_background": "light"
     },
     "output_type": "display_data"
    }
   ],
   "source": [
    "# summarize history for accuracy\n",
    "plt.plot(model_history.history['accuracy'])\n",
    "plt.plot(model_history.history['val_accuracy'])\n",
    "plt.title('model accuracy')\n",
    "plt.ylabel('accuracy')\n",
    "plt.xlabel('epoch')\n",
    "plt.legend(['train', 'test'], loc='upper left')\n",
    "plt.show()"
   ]
  },
  {
   "cell_type": "code",
   "execution_count": 52,
   "metadata": {},
   "outputs": [
    {
     "data": {
      "image/png": "[encoded data removed]",
      "text/plain": [
       "<Figure size 432x288 with 1 Axes>"
      ]
     },
     "metadata": {
      "needs_background": "light"
     },
     "output_type": "display_data"
    }
   ],
   "source": [
    "# summarize history for loss\n",
    "plt.plot(model_history.history['loss'])\n",
    "plt.plot(model_history.history['val_loss'])\n",
    "plt.title('model loss')\n",
    "plt.ylabel('loss')\n",
    "plt.xlabel('epoch')\n",
    "plt.legend(['train','test'], loc='upper left')\n",
    "plt.show()"
   ]
  },
  {
   "cell_type": "code",
   "execution_count": null,
   "metadata": {},
   "outputs": [],
   "source": []
  },
  {
   "cell_type": "code",
   "execution_count": 56,
   "metadata": {},
   "outputs": [
    {
     "data": {
      "text/plain": [
       "0.8605"
      ]
     },
     "execution_count": 56,
     "metadata": {},
     "output_type": "execute_result"
    }
   ],
   "source": [
    "# Calculate the Accuracy\n",
    "from sklearn.metrics import accuracy_score\n",
    "score=accuracy_score(y_pred,y_test)\n",
    "score"
   ]
  },
  {
   "cell_type": "code",
   "execution_count": null,
   "metadata": {},
   "outputs": [],
   "source": []
  }
 ],
 "metadata": {
  "colab": {
   "authorship_tag": "ABX9TyMwbl0jJoa05wuIU59y39H3",
   "collapsed_sections": [],
   "name": "Artificial Neural Network",
   "provenance": []
  },
  "kernelspec": {
   "display_name": "Python 3",
   "language": "python",
   "name": "python3"
  },
  "language_info": {
   "codemirror_mode": {
    "name": "ipython",
    "version": 3
   },
   "file_extension": ".py",
   "mimetype": "text/x-python",
   "name": "python",
   "nbconvert_exporter": "python",
   "pygments_lexer": "ipython3",
   "version": "3.7.7"
  }
 },
 "nbformat": 4,
 "nbformat_minor": 1
}
